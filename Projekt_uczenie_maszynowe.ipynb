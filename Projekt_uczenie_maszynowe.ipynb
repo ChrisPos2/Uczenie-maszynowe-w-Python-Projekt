{
 "cells": [
  {
   "cell_type": "code",
   "execution_count": 1,
   "id": "0d54c35c",
   "metadata": {},
   "outputs": [],
   "source": [
    "#Piotr Skorulski (24494)\n",
    "#Christian Pospiech (25659)\n",
    "#Mateusz Szymański (25702)\n",
    "\n",
    "import pandas as pd\n",
    "from sklearn.feature_extraction.text import TfidfVectorizer\n",
    "from sklearn.model_selection import train_test_split\n",
    "from sklearn.svm import LinearSVC\n",
    "from sklearn.metrics import accuracy_score, precision_score, recall_score, f1_score\n",
    "import re\n",
    "from nltk.corpus import stopwords\n",
    "from nltk.stem import WordNetLemmatizer\n",
    "\n",
    "# Przetwarzanie tekstu\n",
    "def preprocess_text(text):\n",
    "    # Usuwanie znaków specjalnych i liczb\n",
    "    text = re.sub(r\"[^a-zA-Z]\", \" \", text)\n",
    "    # Normalizacja tekstu (zamiana na małe litery)\n",
    "    text = text.lower()\n",
    "    # Usuwanie stop words\n",
    "    stop_words = set(stopwords.words(\"english\"))\n",
    "    words = text.split()\n",
    "    words = [word for word in words if word not in stop_words]\n",
    "    # Lematyzacja (przekształcanie słów do ich podstawowej formy)\n",
    "    lemmatizer = WordNetLemmatizer()\n",
    "    words = [lemmatizer.lemmatize(word) for word in words]\n",
    "    return \" \".join(words)\n",
    "\n",
    "# Przygotowanie danych treningowych\n",
    "data = pd.read_csv('dane_treningowe.csv')\n"
   ]
  },
  {
   "cell_type": "code",
   "execution_count": 2,
   "id": "731b12d5",
   "metadata": {},
   "outputs": [
    {
     "name": "stdout",
     "output_type": "stream",
     "text": [
      "                                               tekst  \\\n",
      "0  The film opens with two bandits breaking into ...   \n",
      "1  The film is about a family who move to the sub...   \n",
      "2  The Rarebit Fiend gorges on Welsh rarebit at a...   \n",
      "3  The film features a train traveling through th...   \n",
      "4  Irish villager Kathleen is a tenant of Captain...   \n",
      "\n",
      "                      gatunek  \n",
      "0                     western  \n",
      "1                      comedy  \n",
      "2                       short  \n",
      "3  short action/crime western  \n",
      "4                  short film  \n",
      "                                                    tekst gatunek\n",
      "count                                               28768   28768\n",
      "unique                                              28320    2241\n",
      "top     The films take place three years after the eve...   drama\n",
      "freq                                                    5    5991\n"
     ]
    }
   ],
   "source": [
    "print(data.head())\n",
    "print(data.describe())"
   ]
  },
  {
   "cell_type": "code",
   "execution_count": 3,
   "id": "0d07bb08",
   "metadata": {},
   "outputs": [
    {
     "name": "stdout",
     "output_type": "stream",
     "text": [
      "2241\n"
     ]
    }
   ],
   "source": [
    "#analiza gatunku\n",
    "gatunek_column = data['gatunek']\n",
    "unique_genres = gatunek_column.unique()\n",
    "genre_list = unique_genres.tolist()\n",
    "print(len(genre_list))"
   ]
  },
  {
   "cell_type": "code",
   "execution_count": 4,
   "id": "2e3be502",
   "metadata": {},
   "outputs": [
    {
     "name": "stdout",
     "output_type": "stream",
     "text": [
      "gatunek\n",
      "drama                     5991\n",
      "comedy                    4398\n",
      "horror                    1172\n",
      "action                    1119\n",
      "thriller                   984\n",
      "                          ... \n",
      "epic film                    1\n",
      "comedy, crime, romance       1\n",
      "sports/social                1\n",
      "found footage                1\n",
      "horror romantic comedy       1\n",
      "Name: count, Length: 2241, dtype: int64\n"
     ]
    }
   ],
   "source": [
    "genre_counts = data['gatunek'].value_counts()\n",
    "sorted_genres = genre_counts.sort_values(ascending=False)\n",
    "print(sorted_genres)"
   ]
  },
  {
   "cell_type": "code",
   "execution_count": 5,
   "id": "58798a89",
   "metadata": {},
   "outputs": [],
   "source": [
    "threshold = 10  #ustawienie od jakiej liczności w dół będą usuwane elementy\n",
    "genres_to_delete = sorted_genres[sorted_genres < threshold].index.tolist()\n",
    "data = data[~data['gatunek'].isin(genres_to_delete)]"
   ]
  },
  {
   "cell_type": "code",
   "execution_count": 6,
   "id": "2ab82fa1",
   "metadata": {},
   "outputs": [
    {
     "name": "stdout",
     "output_type": "stream",
     "text": [
      "165\n"
     ]
    }
   ],
   "source": [
    "genres_column = data['gatunek']\n",
    "print(len(genres_column.unique()))"
   ]
  },
  {
   "cell_type": "code",
   "execution_count": 7,
   "id": "2c5c753b",
   "metadata": {},
   "outputs": [],
   "source": [
    "data['tekst'] = data['tekst'].apply(preprocess_text)\n",
    "X = data['tekst']\n",
    "y = data['gatunek']"
   ]
  },
  {
   "cell_type": "code",
   "execution_count": 8,
   "id": "ab0eadd3",
   "metadata": {},
   "outputs": [],
   "source": [
    "# Podział danych na zbiór treningowy i testowy\n",
    "X_train, X_test, y_train, y_test = train_test_split(X, y, test_size=0.2, random_state=42)\n",
    "\n",
    "# Wektoryzacja tekstu\n",
    "vectorizer = TfidfVectorizer()\n",
    "X_train_vectors = vectorizer.fit_transform(X_train)\n",
    "X_test_vectors = vectorizer.transform(X_test)"
   ]
  },
  {
   "cell_type": "code",
   "execution_count": 9,
   "id": "d2559050",
   "metadata": {},
   "outputs": [
    {
     "data": {
      "text/html": [
       "<style>#sk-container-id-1 {color: black;background-color: white;}#sk-container-id-1 pre{padding: 0;}#sk-container-id-1 div.sk-toggleable {background-color: white;}#sk-container-id-1 label.sk-toggleable__label {cursor: pointer;display: block;width: 100%;margin-bottom: 0;padding: 0.3em;box-sizing: border-box;text-align: center;}#sk-container-id-1 label.sk-toggleable__label-arrow:before {content: \"▸\";float: left;margin-right: 0.25em;color: #696969;}#sk-container-id-1 label.sk-toggleable__label-arrow:hover:before {color: black;}#sk-container-id-1 div.sk-estimator:hover label.sk-toggleable__label-arrow:before {color: black;}#sk-container-id-1 div.sk-toggleable__content {max-height: 0;max-width: 0;overflow: hidden;text-align: left;background-color: #f0f8ff;}#sk-container-id-1 div.sk-toggleable__content pre {margin: 0.2em;color: black;border-radius: 0.25em;background-color: #f0f8ff;}#sk-container-id-1 input.sk-toggleable__control:checked~div.sk-toggleable__content {max-height: 200px;max-width: 100%;overflow: auto;}#sk-container-id-1 input.sk-toggleable__control:checked~label.sk-toggleable__label-arrow:before {content: \"▾\";}#sk-container-id-1 div.sk-estimator input.sk-toggleable__control:checked~label.sk-toggleable__label {background-color: #d4ebff;}#sk-container-id-1 div.sk-label input.sk-toggleable__control:checked~label.sk-toggleable__label {background-color: #d4ebff;}#sk-container-id-1 input.sk-hidden--visually {border: 0;clip: rect(1px 1px 1px 1px);clip: rect(1px, 1px, 1px, 1px);height: 1px;margin: -1px;overflow: hidden;padding: 0;position: absolute;width: 1px;}#sk-container-id-1 div.sk-estimator {font-family: monospace;background-color: #f0f8ff;border: 1px dotted black;border-radius: 0.25em;box-sizing: border-box;margin-bottom: 0.5em;}#sk-container-id-1 div.sk-estimator:hover {background-color: #d4ebff;}#sk-container-id-1 div.sk-parallel-item::after {content: \"\";width: 100%;border-bottom: 1px solid gray;flex-grow: 1;}#sk-container-id-1 div.sk-label:hover label.sk-toggleable__label {background-color: #d4ebff;}#sk-container-id-1 div.sk-serial::before {content: \"\";position: absolute;border-left: 1px solid gray;box-sizing: border-box;top: 0;bottom: 0;left: 50%;z-index: 0;}#sk-container-id-1 div.sk-serial {display: flex;flex-direction: column;align-items: center;background-color: white;padding-right: 0.2em;padding-left: 0.2em;position: relative;}#sk-container-id-1 div.sk-item {position: relative;z-index: 1;}#sk-container-id-1 div.sk-parallel {display: flex;align-items: stretch;justify-content: center;background-color: white;position: relative;}#sk-container-id-1 div.sk-item::before, #sk-container-id-1 div.sk-parallel-item::before {content: \"\";position: absolute;border-left: 1px solid gray;box-sizing: border-box;top: 0;bottom: 0;left: 50%;z-index: -1;}#sk-container-id-1 div.sk-parallel-item {display: flex;flex-direction: column;z-index: 1;position: relative;background-color: white;}#sk-container-id-1 div.sk-parallel-item:first-child::after {align-self: flex-end;width: 50%;}#sk-container-id-1 div.sk-parallel-item:last-child::after {align-self: flex-start;width: 50%;}#sk-container-id-1 div.sk-parallel-item:only-child::after {width: 0;}#sk-container-id-1 div.sk-dashed-wrapped {border: 1px dashed gray;margin: 0 0.4em 0.5em 0.4em;box-sizing: border-box;padding-bottom: 0.4em;background-color: white;}#sk-container-id-1 div.sk-label label {font-family: monospace;font-weight: bold;display: inline-block;line-height: 1.2em;}#sk-container-id-1 div.sk-label-container {text-align: center;}#sk-container-id-1 div.sk-container {/* jupyter's `normalize.less` sets `[hidden] { display: none; }` but bootstrap.min.css set `[hidden] { display: none !important; }` so we also need the `!important` here to be able to override the default hidden behavior on the sphinx rendered scikit-learn.org. See: https://github.com/scikit-learn/scikit-learn/issues/21755 */display: inline-block !important;position: relative;}#sk-container-id-1 div.sk-text-repr-fallback {display: none;}</style><div id=\"sk-container-id-1\" class=\"sk-top-container\"><div class=\"sk-text-repr-fallback\"><pre>LinearSVC()</pre><b>In a Jupyter environment, please rerun this cell to show the HTML representation or trust the notebook. <br />On GitHub, the HTML representation is unable to render, please try loading this page with nbviewer.org.</b></div><div class=\"sk-container\" hidden><div class=\"sk-item\"><div class=\"sk-estimator sk-toggleable\"><input class=\"sk-toggleable__control sk-hidden--visually\" id=\"sk-estimator-id-1\" type=\"checkbox\" checked><label for=\"sk-estimator-id-1\" class=\"sk-toggleable__label sk-toggleable__label-arrow\">LinearSVC</label><div class=\"sk-toggleable__content\"><pre>LinearSVC()</pre></div></div></div></div></div>"
      ],
      "text/plain": [
       "LinearSVC()"
      ]
     },
     "execution_count": 9,
     "metadata": {},
     "output_type": "execute_result"
    }
   ],
   "source": [
    "# Trenowanie klasyfikatora\n",
    "classifier1 = LinearSVC()\n",
    "classifier1.fit(X_train_vectors, y_train)"
   ]
  },
  {
   "cell_type": "code",
   "execution_count": 10,
   "id": "0fe38333",
   "metadata": {},
   "outputs": [],
   "source": [
    "# Predykcja na danych testowych\n",
    "predictions = classifier1.predict(X_test_vectors)"
   ]
  },
  {
   "cell_type": "code",
   "execution_count": 11,
   "id": "1cabdfd8",
   "metadata": {},
   "outputs": [
    {
     "name": "stdout",
     "output_type": "stream",
     "text": [
      "Accuracy: 0.4158102766798419\n",
      "Precision: 0.34558075918251535\n",
      "Recall: 0.4158102766798419\n",
      "F1 Score: 0.3652734990105121\n"
     ]
    },
    {
     "name": "stderr",
     "output_type": "stream",
     "text": [
      "C:\\Users\\matik\\AppData\\Local\\Programs\\Python\\Python310\\lib\\site-packages\\sklearn\\metrics\\_classification.py:1344: UndefinedMetricWarning: Precision is ill-defined and being set to 0.0 in labels with no predicted samples. Use `zero_division` parameter to control this behavior.\n",
      "  _warn_prf(average, modifier, msg_start, len(result))\n",
      "C:\\Users\\matik\\AppData\\Local\\Programs\\Python\\Python310\\lib\\site-packages\\sklearn\\metrics\\_classification.py:1344: UndefinedMetricWarning: Recall is ill-defined and being set to 0.0 in labels with no true samples. Use `zero_division` parameter to control this behavior.\n",
      "  _warn_prf(average, modifier, msg_start, len(result))\n"
     ]
    }
   ],
   "source": [
    "# Sprawdzenie dokładności, precyzji, odzysku i F1 Score\n",
    "accuracy = accuracy_score(y_test, predictions)\n",
    "precision = precision_score(y_test, predictions, average='weighted')\n",
    "recall = recall_score(y_test, predictions, average='weighted')\n",
    "f1 = f1_score(y_test, predictions, average='weighted')\n",
    "\n",
    "print(\"Accuracy:\", accuracy)\n",
    "print(\"Precision:\", precision)\n",
    "print(\"Recall:\", recall)\n",
    "print(\"F1 Score:\", f1)"
   ]
  },
  {
   "cell_type": "code",
   "execution_count": 14,
   "id": "8f865b0a",
   "metadata": {},
   "outputs": [],
   "source": [
    "# Trenowanie klasyfikatora - RandomForestClassifier\n",
    "from sklearn.ensemble import RandomForestClassifier\n",
    "classifier2 = RandomForestClassifier()\n",
    "classifier2.fit(X_train_vectors, y_train)\n",
    "\n",
    "# Predykcja na danych testowych\n",
    "predictions = classifier2.predict(X_test_vectors)"
   ]
  },
  {
   "cell_type": "code",
   "execution_count": 15,
   "id": "0a42f265",
   "metadata": {},
   "outputs": [
    {
     "name": "stdout",
     "output_type": "stream",
     "text": [
      "Accuracy: 0.3383399209486166\n",
      "Precision: 0.33067276469478324\n",
      "Recall: 0.3383399209486166\n",
      "F1 Score: 0.24376947487678832\n"
     ]
    },
    {
     "name": "stderr",
     "output_type": "stream",
     "text": [
      "C:\\Users\\matik\\AppData\\Local\\Programs\\Python\\Python310\\lib\\site-packages\\sklearn\\metrics\\_classification.py:1344: UndefinedMetricWarning: Precision is ill-defined and being set to 0.0 in labels with no predicted samples. Use `zero_division` parameter to control this behavior.\n",
      "  _warn_prf(average, modifier, msg_start, len(result))\n"
     ]
    }
   ],
   "source": [
    "# Sprawdzenie dokładności, precyzji, odzysku i F1 Score\n",
    "accuracy = accuracy_score(y_test, predictions)\n",
    "precision = precision_score(y_test, predictions, average='weighted')\n",
    "recall = recall_score(y_test, predictions, average='weighted')\n",
    "f1 = f1_score(y_test, predictions, average='weighted')\n",
    "\n",
    "print(\"Accuracy:\", accuracy)\n",
    "print(\"Precision:\", precision)\n",
    "print(\"Recall:\", recall)\n",
    "print(\"F1 Score:\", f1)"
   ]
  },
  {
   "cell_type": "code",
   "execution_count": 17,
   "id": "02c801a1",
   "metadata": {},
   "outputs": [
    {
     "name": "stdout",
     "output_type": "stream",
     "text": [
      "Wprowadź opis filmu: The end of the road begins. Fast X, the tenth film in the Fast and Furious Saga, launches the final chapters of one of cinema's most storied and popular global franchises, now in its third decade and still going strong with the same core cast and characters as when it began. Over many missions and against impossible odds, Dom Toretto (Vin Diesel) and his family have outsmarted, out-nerved and outdriven every foe in their path. Now, they confront the most lethal opponent they've ever faced: A terrifying threat emerging from the shadows of the past who's fueled by blood revenge, and who is determined to shatter this family and destroy everything-and everyone-that Dom loves, forever. In 2011's Fast Five, Dom and his crew took out nefarious Brazilian drug kingpin Hernan Reyes and decapitated his empire on a bridge in Rio De Janeiro. What they didn't know was that Reyes' son, Dante (Aquaman's Jason Momoa), witnessed it all and has spent the last 12 years masterminding a plan to make Dom pay the ultimate price. Dante's plot will scatter Dom's family from Los Angeles to the catacombs of Rome, from Brazil to London and from Portugal to Antarctica. New allies will be forged and old enemies will resurface.\n",
      "Przewidywany gatunek filmu:  ['action']\n"
     ]
    }
   ],
   "source": [
    "# Wprowadzenie opisu filmu przez użytkownika\n",
    "opis = input(\"Wprowadź opis filmu: \")\n",
    "opis = preprocess_text(opis)\n",
    "\n",
    "# Wektoryzacja opisu wprowadzonego przez użytkownika\n",
    "opis_vector = vectorizer.transform([opis])\n",
    "\n",
    "# Predykcja gatunku filmowego\n",
    "prediction = classifier1.predict(opis_vector)\n",
    "\n",
    "print(\"Przewidywany gatunek filmu: \", prediction)"
   ]
  },
  {
   "cell_type": "code",
   "execution_count": 18,
   "id": "053a3ed5",
   "metadata": {},
   "outputs": [
    {
     "data": {
      "text/html": [
       "<style>#sk-container-id-2 {color: black;background-color: white;}#sk-container-id-2 pre{padding: 0;}#sk-container-id-2 div.sk-toggleable {background-color: white;}#sk-container-id-2 label.sk-toggleable__label {cursor: pointer;display: block;width: 100%;margin-bottom: 0;padding: 0.3em;box-sizing: border-box;text-align: center;}#sk-container-id-2 label.sk-toggleable__label-arrow:before {content: \"▸\";float: left;margin-right: 0.25em;color: #696969;}#sk-container-id-2 label.sk-toggleable__label-arrow:hover:before {color: black;}#sk-container-id-2 div.sk-estimator:hover label.sk-toggleable__label-arrow:before {color: black;}#sk-container-id-2 div.sk-toggleable__content {max-height: 0;max-width: 0;overflow: hidden;text-align: left;background-color: #f0f8ff;}#sk-container-id-2 div.sk-toggleable__content pre {margin: 0.2em;color: black;border-radius: 0.25em;background-color: #f0f8ff;}#sk-container-id-2 input.sk-toggleable__control:checked~div.sk-toggleable__content {max-height: 200px;max-width: 100%;overflow: auto;}#sk-container-id-2 input.sk-toggleable__control:checked~label.sk-toggleable__label-arrow:before {content: \"▾\";}#sk-container-id-2 div.sk-estimator input.sk-toggleable__control:checked~label.sk-toggleable__label {background-color: #d4ebff;}#sk-container-id-2 div.sk-label input.sk-toggleable__control:checked~label.sk-toggleable__label {background-color: #d4ebff;}#sk-container-id-2 input.sk-hidden--visually {border: 0;clip: rect(1px 1px 1px 1px);clip: rect(1px, 1px, 1px, 1px);height: 1px;margin: -1px;overflow: hidden;padding: 0;position: absolute;width: 1px;}#sk-container-id-2 div.sk-estimator {font-family: monospace;background-color: #f0f8ff;border: 1px dotted black;border-radius: 0.25em;box-sizing: border-box;margin-bottom: 0.5em;}#sk-container-id-2 div.sk-estimator:hover {background-color: #d4ebff;}#sk-container-id-2 div.sk-parallel-item::after {content: \"\";width: 100%;border-bottom: 1px solid gray;flex-grow: 1;}#sk-container-id-2 div.sk-label:hover label.sk-toggleable__label {background-color: #d4ebff;}#sk-container-id-2 div.sk-serial::before {content: \"\";position: absolute;border-left: 1px solid gray;box-sizing: border-box;top: 0;bottom: 0;left: 50%;z-index: 0;}#sk-container-id-2 div.sk-serial {display: flex;flex-direction: column;align-items: center;background-color: white;padding-right: 0.2em;padding-left: 0.2em;position: relative;}#sk-container-id-2 div.sk-item {position: relative;z-index: 1;}#sk-container-id-2 div.sk-parallel {display: flex;align-items: stretch;justify-content: center;background-color: white;position: relative;}#sk-container-id-2 div.sk-item::before, #sk-container-id-2 div.sk-parallel-item::before {content: \"\";position: absolute;border-left: 1px solid gray;box-sizing: border-box;top: 0;bottom: 0;left: 50%;z-index: -1;}#sk-container-id-2 div.sk-parallel-item {display: flex;flex-direction: column;z-index: 1;position: relative;background-color: white;}#sk-container-id-2 div.sk-parallel-item:first-child::after {align-self: flex-end;width: 50%;}#sk-container-id-2 div.sk-parallel-item:last-child::after {align-self: flex-start;width: 50%;}#sk-container-id-2 div.sk-parallel-item:only-child::after {width: 0;}#sk-container-id-2 div.sk-dashed-wrapped {border: 1px dashed gray;margin: 0 0.4em 0.5em 0.4em;box-sizing: border-box;padding-bottom: 0.4em;background-color: white;}#sk-container-id-2 div.sk-label label {font-family: monospace;font-weight: bold;display: inline-block;line-height: 1.2em;}#sk-container-id-2 div.sk-label-container {text-align: center;}#sk-container-id-2 div.sk-container {/* jupyter's `normalize.less` sets `[hidden] { display: none; }` but bootstrap.min.css set `[hidden] { display: none !important; }` so we also need the `!important` here to be able to override the default hidden behavior on the sphinx rendered scikit-learn.org. See: https://github.com/scikit-learn/scikit-learn/issues/21755 */display: inline-block !important;position: relative;}#sk-container-id-2 div.sk-text-repr-fallback {display: none;}</style><div id=\"sk-container-id-2\" class=\"sk-top-container\"><div class=\"sk-text-repr-fallback\"><pre>RandomForestClassifier()</pre><b>In a Jupyter environment, please rerun this cell to show the HTML representation or trust the notebook. <br />On GitHub, the HTML representation is unable to render, please try loading this page with nbviewer.org.</b></div><div class=\"sk-container\" hidden><div class=\"sk-item\"><div class=\"sk-estimator sk-toggleable\"><input class=\"sk-toggleable__control sk-hidden--visually\" id=\"sk-estimator-id-2\" type=\"checkbox\" checked><label for=\"sk-estimator-id-2\" class=\"sk-toggleable__label sk-toggleable__label-arrow\">RandomForestClassifier</label><div class=\"sk-toggleable__content\"><pre>RandomForestClassifier()</pre></div></div></div></div></div>"
      ],
      "text/plain": [
       "RandomForestClassifier()"
      ]
     },
     "execution_count": 18,
     "metadata": {},
     "output_type": "execute_result"
    }
   ],
   "source": [
    "# Zmiana wartości parametru C\n",
    "classifier_svc = LinearSVC(C=0.1)\n",
    "#ponowne trenowanie\n",
    "classifier_svc.fit(X_train_vectors, y_train)\n",
    "\n",
    "#Zmiana wartości parametru dla RFC:\n",
    "classifier_rf = RandomForestClassifier(n_estimators=100)  # Zmiana wartości parametru n_estimators\n",
    "#ponowne trenowanie\n",
    "classifier_rf.fit(X_train_vectors, y_train)"
   ]
  },
  {
   "cell_type": "code",
   "execution_count": 19,
   "id": "821c3a75",
   "metadata": {},
   "outputs": [
    {
     "name": "stderr",
     "output_type": "stream",
     "text": [
      "C:\\Users\\matik\\AppData\\Local\\Programs\\Python\\Python310\\lib\\site-packages\\sklearn\\metrics\\_classification.py:1344: UndefinedMetricWarning: Precision is ill-defined and being set to 0.0 in labels with no predicted samples. Use `zero_division` parameter to control this behavior.\n",
      "  _warn_prf(average, modifier, msg_start, len(result))\n"
     ]
    },
    {
     "name": "stdout",
     "output_type": "stream",
     "text": [
      "LinearSVC Classifier:\n",
      "Accuracy:  0.42628458498023714\n",
      "Precision:  0.35863825242892067\n",
      "Recall:  0.42628458498023714\n",
      "F1 Score:  0.34330285157624135\n",
      "RandomForestClassifier:\n",
      "Accuracy:  0.33893280632411066\n",
      "Precision:  0.3271482158350674\n",
      "Recall:  0.33893280632411066\n",
      "F1 Score:  0.2420819513625008\n"
     ]
    },
    {
     "name": "stderr",
     "output_type": "stream",
     "text": [
      "C:\\Users\\matik\\AppData\\Local\\Programs\\Python\\Python310\\lib\\site-packages\\sklearn\\metrics\\_classification.py:1344: UndefinedMetricWarning: Precision is ill-defined and being set to 0.0 in labels with no predicted samples. Use `zero_division` parameter to control this behavior.\n",
      "  _warn_prf(average, modifier, msg_start, len(result))\n"
     ]
    }
   ],
   "source": [
    "# Predykcja na danych testowych dla modelu LinearSVC\n",
    "predictions_svc = classifier_svc.predict(X_test_vectors)\n",
    "\n",
    "# Wyznaczanie metryk dla modelu LinearSVC\n",
    "accuracy_svc = accuracy_score(y_test, predictions_svc)\n",
    "precision_svc = precision_score(y_test, predictions_svc, average='weighted')\n",
    "recall_svc = recall_score(y_test, predictions_svc, average='weighted')\n",
    "f1_svc = f1_score(y_test, predictions_svc, average='weighted')\n",
    "\n",
    "# Wyświetlanie wyników dla modelu LinearSVC\n",
    "print(\"LinearSVC Classifier:\")\n",
    "print(\"Accuracy: \", accuracy_svc)\n",
    "print(\"Precision: \", precision_svc)\n",
    "print(\"Recall: \", recall_svc)\n",
    "print(\"F1 Score: \", f1_svc)\n",
    "\n",
    "# Predykcja na danych testowych dla modelu RandomForestClassifier\n",
    "predictions_rf = classifier_rf.predict(X_test_vectors)\n",
    "\n",
    "# Wyznaczanie metryk dla modelu RandomForestClassifier\n",
    "accuracy_rf = accuracy_score(y_test, predictions_rf)\n",
    "precision_rf = precision_score(y_test, predictions_rf, average='weighted')\n",
    "recall_rf = recall_score(y_test, predictions_rf, average='weighted')\n",
    "f1_rf = f1_score(y_test, predictions_rf, average='weighted')\n",
    "\n",
    "# Wyświetlanie wyników dla modelu RandomForestClassifier\n",
    "print(\"RandomForestClassifier:\")\n",
    "print(\"Accuracy: \", accuracy_rf)\n",
    "print(\"Precision: \", precision_rf)\n",
    "print(\"Recall: \", recall_rf)\n",
    "print(\"F1 Score: \", f1_rf)"
   ]
  },
  {
   "cell_type": "code",
   "execution_count": 20,
   "id": "5149583a",
   "metadata": {},
   "outputs": [
    {
     "name": "stdout",
     "output_type": "stream",
     "text": [
      "Wprowadź opis filmu: John J. Rambo is a former United States Special Forces soldier who fought in Vietnam and won the Congressional Medal of Honor, but his time in Vietnam still haunts him. As he came to Hope, Washington to visit a friend, he was guided out of town by the Sheriff William Teasel who insults Rambo, but what Teasel does not know that his insult angered Rambo to the point where Rambo became violent and was arrested. As he was at the county jail being cleaned, he escapes and goes on a rampage through the forest to try to escape from the sheriffs who want to kill him. Then, as Rambo's commanding officer, Colonel Samuel Trautman tries to save both the Sheriff's department and Rambo before the situation gets out of hand.\n",
      "Przewidywany gatunek filmu:  ['action']\n"
     ]
    }
   ],
   "source": [
    "# Wprowadzenie opisu filmu przez użytkownika\n",
    "opis = input(\"Wprowadź opis filmu: \")\n",
    "opis = preprocess_text(opis)\n",
    "\n",
    "# Wektoryzacja opisu wprowadzonego przez użytkownika\n",
    "opis_vector = vectorizer.transform([opis])\n",
    "\n",
    "# Predykcja gatunku filmowego\n",
    "prediction = classifier_svc.predict(opis_vector)\n",
    "\n",
    "print(\"Przewidywany gatunek filmu: \", prediction)"
   ]
  },
  {
   "cell_type": "code",
   "execution_count": 22,
   "id": "bac3e8ec",
   "metadata": {},
   "outputs": [],
   "source": [
    "# Wyeksportowanie modeluSVC do pliku\n",
    "import pickle\n",
    "with open('modelSVC.pkl', 'wb') as file:\n",
    "    pickle.dump(classifier_svc, file)"
   ]
  },
  {
   "cell_type": "code",
   "execution_count": 23,
   "id": "d3c29cfb",
   "metadata": {},
   "outputs": [],
   "source": [
    "# Wyeksportowanie modeluRFC do pliku\n",
    "with open('modelSVC.pkl', 'wb') as file:\n",
    "    pickle.dump(classifier_rf, file)"
   ]
  },
  {
   "cell_type": "code",
   "execution_count": null,
   "id": "73642ba0",
   "metadata": {},
   "outputs": [],
   "source": []
  }
 ],
 "metadata": {
  "kernelspec": {
   "display_name": "Python 3 (ipykernel)",
   "language": "python",
   "name": "python3"
  },
  "language_info": {
   "codemirror_mode": {
    "name": "ipython",
    "version": 3
   },
   "file_extension": ".py",
   "mimetype": "text/x-python",
   "name": "python",
   "nbconvert_exporter": "python",
   "pygments_lexer": "ipython3",
   "version": "3.10.11"
  }
 },
 "nbformat": 4,
 "nbformat_minor": 5
}
